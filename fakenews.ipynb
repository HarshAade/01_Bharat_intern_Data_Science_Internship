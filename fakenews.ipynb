{
  "cells": [
    {
      "cell_type": "markdown",
      "metadata": {
        "id": "view-in-github",
        "colab_type": "text"
      },
      "source": [
        "<a href=\"https://colab.research.google.com/github/HarshAade/01_Bharat_intern_Data_Science_Internship/blob/main/fakenews.ipynb\" target=\"_parent\"><img src=\"https://colab.research.google.com/assets/colab-badge.svg\" alt=\"Open In Colab\"/></a>"
      ]
    },
    {
      "cell_type": "code",
      "execution_count": null,
      "metadata": {
        "id": "LYtBBblpFs6n"
      },
      "outputs": [],
      "source": [
        "import pandas as pd\n",
        "import matplotlib.pyplot as plt\n",
        "import numpy as np\n",
        "import seaborn as sns\n",
        "import string\n",
        "import re\n",
        "from sklearn.model_selection import train_test_split\n",
        "from sklearn.metrics import accuracy_score\n",
        "from sklearn.metrics import classification_report"
      ]
    },
    {
      "cell_type": "code",
      "execution_count": null,
      "metadata": {
        "id": "FlWiyvjTFxcU"
      },
      "outputs": [],
      "source": [
        "data_fake = pd.read_csv('Fake.csv')"
      ]
    },
    {
      "cell_type": "code",
      "execution_count": null,
      "metadata": {
        "id": "uzL6p4gMnfnI"
      },
      "outputs": [],
      "source": [
        "data_true = pd.read_csv('True.csv')"
      ]
    },
    {
      "cell_type": "code",
      "execution_count": null,
      "metadata": {
        "id": "8spmjb9OL9C7"
      },
      "outputs": [],
      "source": [
        "data_fake.head()"
      ]
    },
    {
      "cell_type": "code",
      "execution_count": null,
      "metadata": {
        "id": "dpXkFXziOhxQ"
      },
      "outputs": [],
      "source": [
        "data_true.tail()"
      ]
    },
    {
      "cell_type": "code",
      "execution_count": null,
      "metadata": {
        "id": "BlTj4c-JOsmT"
      },
      "outputs": [],
      "source": [
        "data_fake[\"class\"]=0\n",
        "data_true['class']=1"
      ]
    },
    {
      "cell_type": "code",
      "execution_count": null,
      "metadata": {
        "id": "fZvLFTOGOsjh"
      },
      "outputs": [],
      "source": [
        "data_fake.shape, data_true.shape"
      ]
    },
    {
      "cell_type": "code",
      "execution_count": null,
      "metadata": {
        "id": "UbgOV0AROshL"
      },
      "outputs": [],
      "source": [
        "data_fake_manual_testing = data_fake.tail(10)\n",
        "for i in range(23480,23470,-1):\n",
        "    data_fake.drop([i],axis = 0, inplace = True)\n",
        "\n",
        "\n",
        "data_true_manual_testing = data_true.tail(10)\n",
        "for i in range(21416,21406,-1):\n",
        "    data_true.drop([i],axis = 0, inplace = True)"
      ]
    },
    {
      "cell_type": "code",
      "execution_count": null,
      "metadata": {
        "id": "8yR_JOFjOse9"
      },
      "outputs": [],
      "source": [
        "data_fake.shape, data_true.shape"
      ]
    },
    {
      "cell_type": "code",
      "execution_count": null,
      "metadata": {
        "id": "WmZ7gI7yOscP"
      },
      "outputs": [],
      "source": [
        "data_fake_manual_testing['class']=0\n",
        "data_true_manual_testing['class']=1"
      ]
    },
    {
      "cell_type": "code",
      "execution_count": null,
      "metadata": {
        "id": "bOX2KmhROsZx"
      },
      "outputs": [],
      "source": [
        "data_fake_manual_testing.head(10)"
      ]
    },
    {
      "cell_type": "markdown",
      "metadata": {
        "id": "5EvEdGs-POG7"
      },
      "source": [
        "\"title\", \"subject\" and \"date\" columns is not required for detecting the fake news, so I am going to drop the columns."
      ]
    },
    {
      "cell_type": "code",
      "execution_count": null,
      "metadata": {
        "id": "oaOfICe7OsXi"
      },
      "outputs": [],
      "source": [
        "data_true_manual_testing.head(10)"
      ]
    },
    {
      "cell_type": "code",
      "execution_count": null,
      "metadata": {
        "id": "-VQt2l4gOsUv"
      },
      "outputs": [],
      "source": [
        "data_merge=pd.concat([data_fake, data_true], axis = 0)\n",
        "data_merge.head(10)"
      ]
    },
    {
      "cell_type": "code",
      "execution_count": null,
      "metadata": {
        "id": "MFNnvObAOsSX"
      },
      "outputs": [],
      "source": [
        "data_merge.columns"
      ]
    },
    {
      "cell_type": "code",
      "execution_count": null,
      "metadata": {
        "id": "BZVe40ydOsP2"
      },
      "outputs": [],
      "source": [
        "data=data_merge.drop(['title','subject','date'], axis = 1)"
      ]
    },
    {
      "cell_type": "code",
      "execution_count": null,
      "metadata": {
        "id": "w54AEtB1OsLv"
      },
      "outputs": [],
      "source": [
        "#count of missing values\n",
        "data.isnull().sum()"
      ]
    },
    {
      "cell_type": "markdown",
      "metadata": {
        "id": "YEFXvMKNPXkG"
      },
      "source": [
        "Randomly shuffling the dataframe"
      ]
    },
    {
      "cell_type": "code",
      "execution_count": null,
      "metadata": {
        "id": "ROZnE7KtOsH9"
      },
      "outputs": [],
      "source": [
        "data = data.sample(frac = 1)"
      ]
    },
    {
      "cell_type": "code",
      "execution_count": null,
      "metadata": {
        "id": "zemAXYShOsFe"
      },
      "outputs": [],
      "source": [
        "data.head()"
      ]
    },
    {
      "cell_type": "code",
      "execution_count": null,
      "metadata": {
        "id": "Am8BmuN0OsCP"
      },
      "outputs": [],
      "source": [
        "data.reset_index(inplace = True)\n",
        "data.drop(['index'], axis = 1, inplace = True)"
      ]
    },
    {
      "cell_type": "code",
      "execution_count": null,
      "metadata": {
        "id": "Js4FQ82HOr6L"
      },
      "outputs": [],
      "source": [
        "data.columns"
      ]
    },
    {
      "cell_type": "code",
      "execution_count": null,
      "metadata": {
        "id": "DPmWkJUXPe6Q"
      },
      "outputs": [],
      "source": [
        "data.head()"
      ]
    },
    {
      "cell_type": "markdown",
      "metadata": {
        "id": "el7y0sYUPkSQ"
      },
      "source": [
        "Preprocessing Text\n",
        "\n",
        "\n",
        "```\n",
        "`Creating a function to convert the text in lowercase, remove the extra space, special chr., ulr and links.\n",
        "```\n",
        "\n"
      ]
    },
    {
      "cell_type": "code",
      "execution_count": null,
      "metadata": {
        "id": "n2QHGz9MPe3y"
      },
      "outputs": [],
      "source": [
        "def wordopt(text):\n",
        "    text = text.lower()\n",
        "    text = re.sub('\\[.*?\\]','',text)\n",
        "    text = re.sub(\"\\\\W\",\" \",text)\n",
        "    text = re.sub('https?://\\S+|www\\.\\S+','',text)\n",
        "    text = re.sub('<.*?>+',b'',text)\n",
        "    text = re.sub('[%s]' % re.escape(string.punctuation),'',text)\n",
        "    text = re.sub('\\w*\\d\\w*','',text)\n",
        "    return text"
      ]
    },
    {
      "cell_type": "code",
      "execution_count": null,
      "metadata": {
        "id": "-g_gx5xsVQhe"
      },
      "outputs": [],
      "source": [
        "from google.colab import drive\n",
        "drive.mount('/content/drive')"
      ]
    },
    {
      "cell_type": "code",
      "execution_count": null,
      "metadata": {
        "id": "3EsWkNGHPe0r"
      },
      "outputs": [],
      "source": [
        "data['text'] = data['text'].apply(wordopt)"
      ]
    },
    {
      "cell_type": "markdown",
      "metadata": {
        "id": "-7fycgZCrpVp"
      },
      "source": [
        "Defining dependent and independent variable as x and y"
      ]
    },
    {
      "cell_type": "code",
      "execution_count": null,
      "metadata": {
        "id": "n6InpfiePeyE"
      },
      "outputs": [],
      "source": [
        "x = data['text']\n",
        "y = data['class']"
      ]
    },
    {
      "cell_type": "markdown",
      "metadata": {
        "id": "AjBpaNy5rwkL"
      },
      "source": [
        "Training the model\n",
        "Splitting the dataset into training set and testing set."
      ]
    },
    {
      "cell_type": "code",
      "execution_count": null,
      "metadata": {
        "id": "u8Y5rRKeWW5M"
      },
      "outputs": [],
      "source": [
        "x_train, x_test, y_train, y_test = train_test_split(x,y,test_size = 0.25)"
      ]
    },
    {
      "cell_type": "markdown",
      "metadata": {
        "id": "a9wBKNe_r1jp"
      },
      "source": [
        "Extracting Features from the Text\n",
        "Convert text to vectors"
      ]
    },
    {
      "cell_type": "code",
      "execution_count": null,
      "metadata": {
        "id": "Wy9GOBQerzs6"
      },
      "outputs": [],
      "source": [
        "from sklearn.feature_extraction.text import TfidfVectorizer\n",
        "\n",
        "vectorization = TfidfVectorizer()\n",
        "xv_train = vectorization.fit_transform(x_train)\n",
        "xv_test = vectorization.transform(x_test)"
      ]
    },
    {
      "cell_type": "markdown",
      "metadata": {
        "id": "5nLG6z2rsE_6"
      },
      "source": [
        "Logistic Regression"
      ]
    },
    {
      "cell_type": "code",
      "execution_count": null,
      "metadata": {
        "id": "7gh6K0uxr5sg"
      },
      "outputs": [],
      "source": [
        "from sklearn.linear_model import LogisticRegression"
      ]
    },
    {
      "cell_type": "code",
      "execution_count": null,
      "metadata": {
        "id": "OEqGX2fysHC3"
      },
      "outputs": [],
      "source": [
        "LR = LogisticRegression()\n",
        "LR.fit(xv_train, y_train)"
      ]
    },
    {
      "cell_type": "code",
      "execution_count": null,
      "metadata": {
        "id": "_MNLai_DsIeA"
      },
      "outputs": [],
      "source": [
        "pred_lr = LR.predict(xv_test)"
      ]
    },
    {
      "cell_type": "code",
      "execution_count": null,
      "metadata": {
        "id": "oVnOpuXfsJ47"
      },
      "outputs": [],
      "source": [
        "LR.score(xv_test, y_test)"
      ]
    },
    {
      "cell_type": "code",
      "execution_count": null,
      "metadata": {
        "id": "TkvuzTJRsLdi"
      },
      "outputs": [],
      "source": [
        "print(classification_report(y_test, pred_lr))"
      ]
    },
    {
      "cell_type": "markdown",
      "metadata": {
        "id": "UJOokhVmsQA7"
      },
      "source": [
        "Decision Tree Classifier"
      ]
    },
    {
      "cell_type": "code",
      "execution_count": null,
      "metadata": {
        "id": "glhLRkCjsM71"
      },
      "outputs": [],
      "source": [
        "\n",
        "from sklearn.tree import DecisionTreeClassifier\n",
        "\n",
        "DT = DecisionTreeClassifier()\n",
        "DT.fit(xv_train, y_train)"
      ]
    },
    {
      "cell_type": "code",
      "execution_count": null,
      "metadata": {
        "id": "lI4oLWg0sSYQ"
      },
      "outputs": [],
      "source": [
        "pred_dt = DT.predict(xv_test)"
      ]
    },
    {
      "cell_type": "code",
      "execution_count": null,
      "metadata": {
        "id": "b6Xf7fDDsT5N"
      },
      "outputs": [],
      "source": [
        "DT.score(xv_test, y_test)"
      ]
    },
    {
      "cell_type": "code",
      "execution_count": null,
      "metadata": {
        "id": "6XyIS_-0sVbZ"
      },
      "outputs": [],
      "source": [
        "print (classification_report(y_test, pred_lr))"
      ]
    },
    {
      "cell_type": "markdown",
      "metadata": {
        "id": "PCBxqjbrs59r"
      },
      "source": [
        "Gradient Boost Classifier"
      ]
    },
    {
      "cell_type": "code",
      "execution_count": null,
      "metadata": {
        "id": "qP5U4P1VsXve"
      },
      "outputs": [],
      "source": [
        "from sklearn.ensemble import GradientBoostingClassifier\n",
        "\n",
        "GB = GradientBoostingClassifier(random_state = 0)\n",
        "GB.fit(xv_train, y_train)"
      ]
    },
    {
      "cell_type": "code",
      "execution_count": null,
      "metadata": {
        "id": "aYYF_4Tys-R4"
      },
      "outputs": [],
      "source": [
        "pred_gb = GB.predict(xv_test)"
      ]
    },
    {
      "cell_type": "code",
      "execution_count": null,
      "metadata": {
        "id": "9MZeyd8tuyB8"
      },
      "outputs": [],
      "source": [
        "GB.score(xv_test, y_test)"
      ]
    },
    {
      "cell_type": "code",
      "execution_count": null,
      "metadata": {
        "id": "npaNwotxu0Qg"
      },
      "outputs": [],
      "source": [
        "print(classification_report(y_test, pred_gb))"
      ]
    },
    {
      "cell_type": "markdown",
      "metadata": {
        "id": "M-rRBN7hu333"
      },
      "source": [
        "Random Forest Classifier"
      ]
    },
    {
      "cell_type": "code",
      "execution_count": null,
      "metadata": {
        "id": "jnnT3hklu2SN"
      },
      "outputs": [],
      "source": [
        "from sklearn.ensemble import RandomForestClassifier\n",
        "\n",
        "RF = RandomForestClassifier(random_state = 0)\n",
        "RF.fit(xv_train, y_train)"
      ]
    },
    {
      "cell_type": "code",
      "execution_count": null,
      "metadata": {
        "id": "qOT2Cuzku6Ok"
      },
      "outputs": [],
      "source": [
        "pred_rf = RF.predict(xv_test)"
      ]
    },
    {
      "cell_type": "code",
      "execution_count": null,
      "metadata": {
        "id": "QKoeiXunu8QJ"
      },
      "outputs": [],
      "source": [
        "RF.score(xv_test, y_test)"
      ]
    },
    {
      "cell_type": "code",
      "execution_count": null,
      "metadata": {
        "id": "2Ga_fxhzu-nm"
      },
      "outputs": [],
      "source": [
        "print(classification_report(y_test, pred_rf))"
      ]
    },
    {
      "cell_type": "markdown",
      "metadata": {
        "id": "hjRFUB-yvDbF"
      },
      "source": [
        "Testing the Model"
      ]
    },
    {
      "cell_type": "code",
      "execution_count": null,
      "metadata": {
        "id": "t8khGRvZvAFX"
      },
      "outputs": [],
      "source": [
        "def output_lable(n):\n",
        "    if n==0:\n",
        "        return \"Fake News\"\n",
        "    elif n==1:\n",
        "        return \"Not A Fake News\"\n",
        "\n",
        "def manual_testing(news):\n",
        "    testing_news = {\"text\":[news]}\n",
        "    new_def_test = pd.DataFrame(testing_news)\n",
        "    new_def_test['text'] = new_def_test[\"text\"].apply(wordopt)\n",
        "    new_x_test = new_def_test[\"text\"]\n",
        "    new_xv_test = vectorization.transform(new_x_test)\n",
        "    pred_LR = LR.predict(new_xv_test)\n",
        "    pred_DT = DT.predict(new_xv_test)\n",
        "    pred_GB = GB.predict(new_xv_test)\n",
        "    pred_RF = RF.predict(new_xv_test)\n",
        "\n",
        "    return print(\"\\n\\nLR Predicition: {} \\nDT Prediction: {} \\nGBC Prediction: {} \\nRFC Prediction:{}\".format(output_lable(pred_LR[0]),\n",
        "                                                                                                             output_lable(pred_DT[0]),\n",
        "                                                                                                             output_lable(pred_GB[0]),\n",
        "                                                                                                             output_lable(pred_RF[0])))"
      ]
    },
    {
      "cell_type": "markdown",
      "metadata": {
        "id": "X4w-BC87wrDA"
      },
      "source": [
        "Model Testing With Manual Entry"
      ]
    },
    {
      "cell_type": "code",
      "execution_count": null,
      "metadata": {
        "id": "tuClSwzywoLt"
      },
      "outputs": [],
      "source": [
        "news = str(input())\n",
        "manual_testing(news)"
      ]
    },
    {
      "cell_type": "code",
      "execution_count": null,
      "metadata": {
        "id": "UrToGUnJwuK8"
      },
      "outputs": [],
      "source": [
        "news = str(input())\n",
        "manual_testing(news)"
      ]
    },
    {
      "cell_type": "code",
      "execution_count": null,
      "metadata": {
        "id": "OES79XKzw1c1"
      },
      "outputs": [],
      "source": [
        "news = str(input())\n",
        "manual_testing(news)"
      ]
    },
    {
      "cell_type": "code",
      "execution_count": null,
      "metadata": {
        "colab": {
          "base_uri": "https://localhost:8080/"
        },
        "id": "zi68geW5_E8j",
        "outputId": "7dd5828c-7ef1-4e26-abf8-a59504d216bc"
      },
      "outputs": [
        {
          "output_type": "stream",
          "name": "stdout",
          "text": [
            "Federal health officials told the AP they have not received any reports of Ebola cases at the Nevada event. A screenshot of a supposed post from the Centers for Disease Control and Prevention confirming such cases was fabricated. And there is no record of a national emergency being declared. The claims emerged after summer storm left muddy roads flooded, stranding tens of thousands of partygoers; event organizers let traffic flow out of the main road Monday afternoon. “So, it was announced earlier that Burning Man was declared a national emergency because it was flooded, and so they sent in FEMA,” a woman claims in a TikTok video shared on Instagram, suggesting the development was suspicious. The AP found no record, including on federal websites and in White House announcements, of a national emergency declaration and FEMA confirmed that it was not involved in the situation. “No FEMA personnel or assets have been deployed to the Burning Man festival and there are no requests from local or state authorities for our assistance,” FEMA spokesperson Jeremy Edwards said in an email. \n",
            "\n",
            "\n",
            "LR Predicition: Fake News \n",
            "DT Prediction: Fake News \n",
            "GBC Prediction: Fake News \n",
            "RFC Prediction:Fake News\n"
          ]
        }
      ],
      "source": [
        "news = str(input())\n",
        "manual_testing(news)"
      ]
    },
    {
      "cell_type": "code",
      "execution_count": null,
      "metadata": {
        "id": "vVzt84m9_U55"
      },
      "outputs": [],
      "source": [
        "news = str(input())\n",
        "manual_testing(news)"
      ]
    },
    {
      "cell_type": "code",
      "source": [
        "news = str(input())\n",
        "manual_testing(news)"
      ],
      "metadata": {
        "colab": {
          "base_uri": "https://localhost:8080/"
        },
        "id": "V0Jn2aYd8Em6",
        "outputId": "e8d9ebdf-8e09-4f71-d0dc-bb24e4046601"
      },
      "execution_count": null,
      "outputs": [
        {
          "output_type": "stream",
          "name": "stdout",
          "text": [
            "The TikTok video, like other posts, goes on to relay baseless rumors of reported cases of Ebola, whose occasional outbreaks in humans primarily occur in Africa, at the festival. Some posts also shared an image made to appear that the CDC confirmed the supposed outbreak on X, the platform formerly known as Twitter. The purported X post from the agency reads, “Ebola outbreak confirmed at Black Rock City, NV.  It is recommended that all Burning Man attendees remain in their dwellings until further notice. Current State of Emergency in progress.” But the CDC’s X account published no such post. “CDC has not received any reports of Ebola at the Burning Man Festival and has not issued any warnings or had any requests for assistance from the state and local health departments either,” agency spokesperson Scott Pauley said in an email. Reverse image searches further show that a graphic about Ebola used in the fictitious CDC post was published by the agency in 2016, but elements of it were changed.  For example, the original graphic asks, “Recently in West Africa?” But the version used in the made-up X post asks, “Recently in Nevada?” Referencing more online rumors, Pauley also noted the CDC had not received reports of mpox, formerly known as monkeypox, or Marburg, a rare but severe hemorrhagic fever, in relation to Burning Man.  A representative for the Burning Man Project organization also refuted the online claims. “Quite simply, the online rumors of transmissible illnesses in Black Rock City are unfounded and untrue,” Dominique Debucquoy-Dodley said in an email. The festival had been closed to vehicles after more than a half inch (1.3 centimeters) of rain fell Sept. 1, causing flooding and foot-deep mud, as the AP reported. The annual gathering, which launched on a San Francisco beach in 1986, attracts nearly 80,000 artists, musicians and activists for a mix of wilderness camping and avant-garde performances\n",
            "\n",
            "\n",
            "LR Predicition: Fake News \n",
            "DT Prediction: Fake News \n",
            "GBC Prediction: Fake News \n",
            "RFC Prediction:Fake News\n"
          ]
        }
      ]
    },
    {
      "cell_type": "code",
      "source": [
        "news = str(input())\n",
        "manual_testing(news)"
      ],
      "metadata": {
        "id": "YfNhk7un8FL4"
      },
      "execution_count": null,
      "outputs": []
    },
    {
      "cell_type": "code",
      "source": [],
      "metadata": {
        "id": "1WcnWWK08FlM"
      },
      "execution_count": null,
      "outputs": []
    }
  ],
  "metadata": {
    "colab": {
      "provenance": [],
      "authorship_tag": "ABX9TyPvpd0IYRdKRHgdYNw0Wlg4",
      "include_colab_link": true
    },
    "kernelspec": {
      "display_name": "Python 3",
      "name": "python3"
    },
    "language_info": {
      "name": "python"
    }
  },
  "nbformat": 4,
  "nbformat_minor": 0
}